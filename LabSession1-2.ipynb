{
 "cells": [
  {
   "cell_type": "markdown",
   "metadata": {},
   "source": [
    "<div id=\"image\">\n",
    "<img src=\"https://www.imt-atlantique.fr/sites/default/files/logo_mt_0_0.png\" WIDTH=280 HEIGHT=280>\n",
    "</div>\n",
    "<div id=\"subject\">\n",
    "<CENTER>\n",
    "</br>\n",
    "<font size=\"5\"></br> UE Deep Learning: Lab sessions 1 and 2</font></br></div>\n",
    "</CENTER>\n",
    "<CENTER>\n",
    "<font size=\"3\"></br>15th and 19th of Octobre 2018</font></br></div>\n",
    "</CENTER>\n",
    "<CENTER>\n",
    "<span style=\"color:blue\">pierre.tandeo@imt-atlantique.fr</span>\n",
    "</CENTER>\n",
    "<CENTER>\n",
    "<span style=\"color:blue\">pierre-henri.conze@imt-atlantique.fr</span>\n",
    "</CENTER>\n",
    "<CENTER>\n",
    "<span style=\"color:blue\">lucas.drumetz@imt-atlantique.fr</span>\n",
    "</CENTER>\n",
    "</div>"
   ]
  },
  {
   "cell_type": "markdown",
   "metadata": {},
   "source": [
    "The aim of this practice is to explain $Y$ (output variable) as a function of $X$ (input variable) using neural networks. Here, $X$ are continuous and $Y$ can be continuous (*regression*) or discrete (*classification*). These 2 aspects are treated in the deep learning framework. Both linear and nonlinear cases will be covered in this lab session.\n",
    "\n",
    "We use the Keras Python library to implement deep learning architectures. This interface has the following characteristics:\n",
    "- it is developped for both *Tensorflow* and *Theano*\n",
    "- it can be applied to CPU or GPU without distinction\n",
    "- it can interact with classical machine learning libraries like *Scikit-learn*\n",
    "\n",
    "This lab session is an introduction. It gives you the general concepts of neural nets and helps you to implement them using a dedicated Python library. If you want to play with similar regression/classification examples in small dimensions, you can use http://playground.tensorflow.org/. For more details concerning Keras, please visit the documentation at https://keras.io/."
   ]
  },
  {
   "cell_type": "code",
   "execution_count": 1,
   "metadata": {},
   "outputs": [
    {
     "name": "stdout",
     "output_type": "stream",
     "text": [
      "Populating the interactive namespace from numpy and matplotlib\n"
     ]
    }
   ],
   "source": [
    "# Import libraries\n",
    "%matplotlib inline\n",
    "%pylab inline\n",
    "pylab.rcParams['figure.figsize']=(15,15)"
   ]
  },
  {
   "cell_type": "markdown",
   "metadata": {},
   "source": [
    "**Regression problems**\n",
    "\n",
    "Simple regression is a linear problem between continuous variables $X$ and $Y$. Here, we write the model $Y=2+0.5X$ and generate $Y$ using an additional Gaussian standard random noise."
   ]
  },
  {
   "cell_type": "code",
   "execution_count": 2,
   "metadata": {},
   "outputs": [
    {
     "data": {
      "text/plain": [
       "Text(0,0.5,'Y')"
      ]
     },
     "execution_count": 2,
     "metadata": {},
     "output_type": "execute_result"
    },
    {
     "data": {
      "image/png": "[encoded data removed]",
      "text/plain": [
       "<matplotlib.figure.Figure at 0x7f349f1d2668>"
      ]
     },
     "metadata": {
      "needs_background": "light"
     },
     "output_type": "display_data"
    }
   ],
   "source": [
    "# Generate data\n",
    "n=1000\n",
    "X=random.uniform(-10,10,n)\n",
    "Y_true=2+0.5*X # true model\n",
    "Y=Y_true+random.normal(0,1,n) # add noise to the truth\n",
    "plot(X,Y,'b.')\n",
    "\n",
    "# Plot noisy data and true model\n",
    "plot(X,Y,'b.')\n",
    "plot(X,Y_true,'r.')\n",
    "xlabel('X')\n",
    "ylabel('Y')"
   ]
  },
  {
   "cell_type": "markdown",
   "metadata": {},
   "source": [
    "Here, the objective is to build a neural net to fit the linear relationships between $X$ and $Y$. We use the mean absolute error as loss function and the stochastic gradient descent (sgd) algorithm for the optimization procedure. Then, we fit the model on a training dataset (80%) and we evaluate the performance of the model on a test dataset (20%). Finally, we plot the estimated parameters corresponding to the weights for each neurone."
   ]
  },
  {
   "cell_type": "code",
   "execution_count": 3,
   "metadata": {
    "scrolled": true
   },
   "outputs": [
    {
     "name": "stderr",
     "output_type": "stream",
     "text": [
      "Using TensorFlow backend.\n"
     ]
    },
    {
     "name": "stdout",
     "output_type": "stream",
     "text": [
      "Train on 800 samples, validate on 200 samples\n",
      "Epoch 1/100\n",
      "800/800 [==============================] - 3s 4ms/step - loss: 1.3460 - val_loss: 0.9184\n",
      "Epoch 2/100\n",
      "800/800 [==============================] - 0s 63us/step - loss: 1.0119 - val_loss: 0.8886\n",
      "Epoch 3/100\n",
      "800/800 [==============================] - 0s 67us/step - loss: 0.8830 - val_loss: 0.8369\n",
      "Epoch 4/100\n",
      "800/800 [==============================] - 0s 67us/step - loss: 0.8235 - val_loss: 0.9252\n",
      "Epoch 5/100\n",
      "800/800 [==============================] - 0s 72us/step - loss: 0.8109 - val_loss: 0.8517\n",
      "Epoch 6/100\n",
      "800/800 [==============================] - 0s 65us/step - loss: 0.7941 - val_loss: 0.8419\n",
      "Epoch 7/100\n",
      "800/800 [==============================] - 0s 55us/step - loss: 0.8119 - val_loss: 0.8540\n",
      "Epoch 8/100\n",
      "800/800 [==============================] - 0s 61us/step - loss: 0.7855 - val_loss: 0.8420\n",
      "Epoch 9/100\n",
      "800/800 [==============================] - 0s 57us/step - loss: 0.7924 - val_loss: 0.9399\n",
      "Epoch 10/100\n",
      "800/800 [==============================] - 0s 64us/step - loss: 0.7810 - val_loss: 0.8622\n",
      "Epoch 11/100\n",
      "800/800 [==============================] - 0s 62us/step - loss: 0.7869 - val_loss: 0.8423\n",
      "Epoch 12/100\n",
      "800/800 [==============================] - 0s 60us/step - loss: 0.7803 - val_loss: 0.8415\n",
      "Epoch 13/100\n",
      "800/800 [==============================] - 0s 59us/step - loss: 0.7794 - val_loss: 0.8496\n",
      "Epoch 14/100\n",
      "800/800 [==============================] - 0s 72us/step - loss: 0.7777 - val_loss: 0.8639\n",
      "Epoch 15/100\n",
      "800/800 [==============================] - 0s 60us/step - loss: 0.7897 - val_loss: 0.8413\n",
      "Epoch 16/100\n",
      "800/800 [==============================] - 0s 62us/step - loss: 0.7792 - val_loss: 0.8482\n",
      "Epoch 17/100\n",
      "800/800 [==============================] - 0s 69us/step - loss: 0.7819 - val_loss: 0.8413\n",
      "Epoch 18/100\n",
      "800/800 [==============================] - 0s 59us/step - loss: 0.7773 - val_loss: 0.8410\n",
      "Epoch 19/100\n",
      "800/800 [==============================] - 0s 61us/step - loss: 0.7741 - val_loss: 0.8604\n",
      "Epoch 20/100\n",
      "800/800 [==============================] - 0s 54us/step - loss: 0.7813 - val_loss: 0.8461\n",
      "Epoch 21/100\n",
      "800/800 [==============================] - 0s 54us/step - loss: 0.7824 - val_loss: 0.8634\n",
      "Epoch 22/100\n",
      "800/800 [==============================] - 0s 60us/step - loss: 0.7796 - val_loss: 0.8516\n",
      "Epoch 23/100\n",
      "800/800 [==============================] - 0s 58us/step - loss: 0.7791 - val_loss: 0.8434\n",
      "Epoch 24/100\n",
      "800/800 [==============================] - 0s 69us/step - loss: 0.7782 - val_loss: 0.8413\n",
      "Epoch 25/100\n",
      "800/800 [==============================] - 0s 58us/step - loss: 0.7746 - val_loss: 0.8414\n",
      "Epoch 26/100\n",
      "800/800 [==============================] - 0s 59us/step - loss: 0.7760 - val_loss: 0.8435\n",
      "Epoch 27/100\n",
      "800/800 [==============================] - 0s 69us/step - loss: 0.7815 - val_loss: 0.8438\n",
      "Epoch 28/100\n",
      "800/800 [==============================] - 0s 69us/step - loss: 0.7775 - val_loss: 0.8508\n",
      "Epoch 29/100\n",
      "800/800 [==============================] - 0s 64us/step - loss: 0.7763 - val_loss: 0.8461\n",
      "Epoch 30/100\n",
      "800/800 [==============================] - 0s 55us/step - loss: 0.7803 - val_loss: 0.8427\n",
      "Epoch 31/100\n",
      "800/800 [==============================] - 0s 58us/step - loss: 0.7806 - val_loss: 0.8525\n",
      "Epoch 32/100\n",
      "800/800 [==============================] - 0s 56us/step - loss: 0.7761 - val_loss: 0.8449\n",
      "Epoch 33/100\n",
      "800/800 [==============================] - 0s 51us/step - loss: 0.7821 - val_loss: 0.8516\n",
      "Epoch 34/100\n",
      "800/800 [==============================] - 0s 53us/step - loss: 0.7747 - val_loss: 0.8523\n",
      "Epoch 35/100\n",
      "800/800 [==============================] - 0s 54us/step - loss: 0.7775 - val_loss: 0.8422\n",
      "Epoch 36/100\n",
      "800/800 [==============================] - 0s 59us/step - loss: 0.7767 - val_loss: 0.8429\n",
      "Epoch 37/100\n",
      "800/800 [==============================] - 0s 63us/step - loss: 0.7755 - val_loss: 0.8440\n",
      "Epoch 38/100\n",
      "800/800 [==============================] - 0s 59us/step - loss: 0.7759 - val_loss: 0.8622\n",
      "Epoch 39/100\n",
      "800/800 [==============================] - 0s 62us/step - loss: 0.7782 - val_loss: 0.8422\n",
      "Epoch 40/100\n",
      "800/800 [==============================] - 0s 58us/step - loss: 0.7784 - val_loss: 0.8406\n",
      "Epoch 41/100\n",
      "800/800 [==============================] - 0s 61us/step - loss: 0.7762 - val_loss: 0.8405\n",
      "Epoch 42/100\n",
      "800/800 [==============================] - 0s 63us/step - loss: 0.7749 - val_loss: 0.8446\n",
      "Epoch 43/100\n",
      "800/800 [==============================] - 0s 63us/step - loss: 0.7759 - val_loss: 0.8412\n",
      "Epoch 44/100\n",
      "800/800 [==============================] - 0s 63us/step - loss: 0.7760 - val_loss: 0.8524\n",
      "Epoch 45/100\n",
      "800/800 [==============================] - 0s 68us/step - loss: 0.7786 - val_loss: 0.8421\n",
      "Epoch 46/100\n",
      "800/800 [==============================] - 0s 68us/step - loss: 0.7746 - val_loss: 0.8436\n",
      "Epoch 47/100\n",
      "800/800 [==============================] - 0s 47us/step - loss: 0.7769 - val_loss: 0.8467\n",
      "Epoch 48/100\n",
      "800/800 [==============================] - 0s 67us/step - loss: 0.7720 - val_loss: 0.8415\n",
      "Epoch 49/100\n",
      "800/800 [==============================] - 0s 53us/step - loss: 0.7767 - val_loss: 0.8407\n",
      "Epoch 50/100\n",
      "800/800 [==============================] - 0s 61us/step - loss: 0.7778 - val_loss: 0.8453\n",
      "Epoch 51/100\n",
      "800/800 [==============================] - 0s 68us/step - loss: 0.7756 - val_loss: 0.8483\n",
      "Epoch 52/100\n",
      "800/800 [==============================] - 0s 49us/step - loss: 0.7753 - val_loss: 0.8443\n",
      "Epoch 53/100\n",
      "800/800 [==============================] - 0s 65us/step - loss: 0.7753 - val_loss: 0.8470\n",
      "Epoch 54/100\n",
      "800/800 [==============================] - 0s 67us/step - loss: 0.7755 - val_loss: 0.8505\n",
      "Epoch 55/100\n",
      "800/800 [==============================] - 0s 57us/step - loss: 0.7741 - val_loss: 0.8469\n",
      "Epoch 56/100\n",
      "800/800 [==============================] - 0s 78us/step - loss: 0.7754 - val_loss: 0.8408\n",
      "Epoch 57/100\n",
      "800/800 [==============================] - 0s 62us/step - loss: 0.7749 - val_loss: 0.8411\n",
      "Epoch 58/100\n",
      "800/800 [==============================] - 0s 64us/step - loss: 0.7734 - val_loss: 0.8477\n",
      "Epoch 59/100\n",
      "800/800 [==============================] - 0s 54us/step - loss: 0.7736 - val_loss: 0.8412\n",
      "Epoch 60/100\n",
      "800/800 [==============================] - 0s 61us/step - loss: 0.7742 - val_loss: 0.8410\n",
      "Epoch 61/100\n",
      "800/800 [==============================] - 0s 52us/step - loss: 0.7745 - val_loss: 0.8490\n",
      "Epoch 62/100\n",
      "800/800 [==============================] - 0s 57us/step - loss: 0.7749 - val_loss: 0.8415\n",
      "Epoch 63/100\n",
      "800/800 [==============================] - 0s 67us/step - loss: 0.7733 - val_loss: 0.8419\n",
      "Epoch 64/100\n",
      "800/800 [==============================] - 0s 76us/step - loss: 0.7760 - val_loss: 0.8458\n",
      "Epoch 65/100\n",
      "800/800 [==============================] - 0s 65us/step - loss: 0.7747 - val_loss: 0.8410\n",
      "Epoch 66/100\n",
      "800/800 [==============================] - 0s 56us/step - loss: 0.7763 - val_loss: 0.8419\n",
      "Epoch 67/100\n",
      "800/800 [==============================] - 0s 52us/step - loss: 0.7746 - val_loss: 0.8445\n",
      "Epoch 68/100\n",
      "800/800 [==============================] - 0s 55us/step - loss: 0.7729 - val_loss: 0.8411\n",
      "Epoch 69/100\n",
      "800/800 [==============================] - 0s 50us/step - loss: 0.7749 - val_loss: 0.8492\n",
      "Epoch 70/100\n",
      "800/800 [==============================] - 0s 51us/step - loss: 0.7759 - val_loss: 0.8432\n",
      "Epoch 71/100\n",
      "800/800 [==============================] - 0s 54us/step - loss: 0.7745 - val_loss: 0.8492\n",
      "Epoch 72/100\n",
      "800/800 [==============================] - 0s 65us/step - loss: 0.7741 - val_loss: 0.8496\n",
      "Epoch 73/100\n",
      "800/800 [==============================] - 0s 64us/step - loss: 0.7749 - val_loss: 0.8518\n",
      "Epoch 74/100\n",
      "800/800 [==============================] - 0s 56us/step - loss: 0.7750 - val_loss: 0.8441\n",
      "Epoch 75/100\n",
      "800/800 [==============================] - 0s 69us/step - loss: 0.7737 - val_loss: 0.8437\n",
      "Epoch 76/100\n",
      "800/800 [==============================] - 0s 50us/step - loss: 0.7742 - val_loss: 0.8453\n",
      "Epoch 77/100\n",
      "800/800 [==============================] - 0s 66us/step - loss: 0.7745 - val_loss: 0.8459\n",
      "Epoch 78/100\n",
      "800/800 [==============================] - 0s 67us/step - loss: 0.7748 - val_loss: 0.8410\n",
      "Epoch 79/100\n",
      "800/800 [==============================] - 0s 53us/step - loss: 0.7764 - val_loss: 0.8417\n",
      "Epoch 80/100\n"
     ]
    },
    {
     "name": "stdout",
     "output_type": "stream",
     "text": [
      "800/800 [==============================] - 0s 65us/step - loss: 0.7735 - val_loss: 0.8415\n",
      "Epoch 81/100\n",
      "800/800 [==============================] - 0s 64us/step - loss: 0.7738 - val_loss: 0.8474\n",
      "Epoch 82/100\n",
      "800/800 [==============================] - 0s 51us/step - loss: 0.7743 - val_loss: 0.8477\n",
      "Epoch 83/100\n",
      "800/800 [==============================] - 0s 54us/step - loss: 0.7729 - val_loss: 0.8437\n",
      "Epoch 84/100\n",
      "800/800 [==============================] - 0s 59us/step - loss: 0.7756 - val_loss: 0.8468\n",
      "Epoch 85/100\n",
      "800/800 [==============================] - 0s 57us/step - loss: 0.7734 - val_loss: 0.8412\n",
      "Epoch 86/100\n",
      "800/800 [==============================] - 0s 65us/step - loss: 0.7748 - val_loss: 0.8411\n",
      "Epoch 87/100\n",
      "800/800 [==============================] - 0s 58us/step - loss: 0.7733 - val_loss: 0.8410\n",
      "Epoch 88/100\n",
      "800/800 [==============================] - 0s 64us/step - loss: 0.7743 - val_loss: 0.8434\n",
      "Epoch 89/100\n",
      "800/800 [==============================] - 0s 68us/step - loss: 0.7741 - val_loss: 0.8465\n",
      "Epoch 90/100\n",
      "800/800 [==============================] - 0s 65us/step - loss: 0.7740 - val_loss: 0.8480\n",
      "Epoch 91/100\n",
      "800/800 [==============================] - 0s 58us/step - loss: 0.7741 - val_loss: 0.8421\n",
      "Epoch 92/100\n",
      "800/800 [==============================] - 0s 53us/step - loss: 0.7742 - val_loss: 0.8461\n",
      "Epoch 93/100\n",
      "800/800 [==============================] - 0s 56us/step - loss: 0.7748 - val_loss: 0.8438\n",
      "Epoch 94/100\n",
      "800/800 [==============================] - 0s 53us/step - loss: 0.7734 - val_loss: 0.8462\n",
      "Epoch 95/100\n",
      "800/800 [==============================] - 0s 62us/step - loss: 0.7743 - val_loss: 0.8489\n",
      "Epoch 96/100\n",
      "800/800 [==============================] - 0s 64us/step - loss: 0.7744 - val_loss: 0.8430\n",
      "Epoch 97/100\n",
      "800/800 [==============================] - 0s 66us/step - loss: 0.7743 - val_loss: 0.8407\n",
      "Epoch 98/100\n",
      "800/800 [==============================] - 0s 63us/step - loss: 0.7742 - val_loss: 0.8452\n",
      "Epoch 99/100\n",
      "800/800 [==============================] - 0s 66us/step - loss: 0.7742 - val_loss: 0.8425\n",
      "Epoch 100/100\n",
      "800/800 [==============================] - 0s 51us/step - loss: 0.7739 - val_loss: 0.8414\n"
     ]
    },
    {
     "data": {
      "text/plain": [
       "[array([[0.4993263]], dtype=float32), array([2.0551267], dtype=float32)]"
      ]
     },
     "execution_count": 3,
     "metadata": {},
     "output_type": "execute_result"
    }
   ],
   "source": [
    "# Import deep learning library\n",
    "from keras.models import Sequential\n",
    "from keras.layers.core import Activation, Dense\n",
    "from keras.optimizers import SGD, Adam\n",
    "\n",
    "# Build our model\n",
    "model_regress1 = Sequential()\n",
    " \n",
    "# Declare the layers\n",
    "layers = [Dense(units=1, input_dim=1), Activation('linear')]\n",
    " \n",
    "# Add the layers to the model\n",
    "for layer in layers:\n",
    "    model_regress1.add(layer)\n",
    "\n",
    "# Configure an optimizer used to minimize the loss function\n",
    "sgd = SGD(lr=0.1, decay=.01)\n",
    "\n",
    "# Compile our model\n",
    "model_regress1.compile(loss='mean_absolute_error', optimizer=sgd)\n",
    " \n",
    "# Fit the model\n",
    "model_regress1.fit(X, Y, validation_split=0.2, epochs=100)\n",
    "\n",
    "# Model summary and weights\n",
    "model_regress1.get_weights() # model_regress1.layers[0].get_weights()"
   ]
  },
  {
   "cell_type": "markdown",
   "metadata": {},
   "source": [
    "We can see that the estimated parameters are closed to the true ones ($2$ for the intercept and $0.5$ for the slope). Below, we plot the true model (red) and the estimated one (green)."
   ]
  },
  {
   "cell_type": "code",
   "execution_count": 4,
   "metadata": {},
   "outputs": [
    {
     "data": {
      "text/plain": [
       "Text(0,0.5,'Y')"
      ]
     },
     "execution_count": 4,
     "metadata": {},
     "output_type": "execute_result"
    },
    {
     "data": {
      "image/png": "[encoded data removed]",
      "text/plain": [
       "<matplotlib.figure.Figure at 0x7f34c8628048>"
      ]
     },
     "metadata": {
      "needs_background": "light"
     },
     "output_type": "display_data"
    }
   ],
   "source": [
    "# Make prediction using the model\n",
    "Y_hat = model_regress1.predict(X)\n",
    "\n",
    "# Plot noisy data, true model and prediction\n",
    "plot(X,Y,'b.')\n",
    "plot(X,Y_true,'r.',linewidth=2)\n",
    "plot(X,Y_hat,'g.',linewidth=2)\n",
    "xlabel('X')\n",
    "ylabel('Y')"
   ]
  },
  {
   "cell_type": "markdown",
   "metadata": {},
   "source": [
    "Now, let us consider a model where for a same input variable $X$, we associate 2 output variables $Y_0$ and $Y_1$ defined by $Y_0=2+0.5X$ and $Y_1=-2-0.5X$. As previously, we use Gaussian additive noises to generate $Y_0$ and $Y_1$."
   ]
  },
  {
   "cell_type": "code",
   "execution_count": 5,
   "metadata": {},
   "outputs": [
    {
     "data": {
      "text/plain": [
       "Text(0,0.5,'Y')"
      ]
     },
     "execution_count": 5,
     "metadata": {},
     "output_type": "execute_result"
    },
    {
     "data": {
      "image/png": "[encoded data removed]",
      "text/plain": [
       "<matplotlib.figure.Figure at 0x7f34486d5be0>"
      ]
     },
     "metadata": {
      "needs_background": "light"
     },
     "output_type": "display_data"
    }
   ],
   "source": [
    "# Generate data\n",
    "n=1000\n",
    "X=random.uniform(-10,10,n)\n",
    "Y0_true=2+0.5*X # true model\n",
    "Y0=Y0_true+random.normal(0,1,n) # add noise\n",
    "Y1_true=-2-0.5*X # true model\n",
    "Y1=Y1_true+random.normal(0,1,n) # add noise\n",
    "Y_true=vstack([Y0_true,Y1_true]).T\n",
    "Y=vstack([Y0,Y1]).T\n",
    "\n",
    "# Plot noisy data and true model\n",
    "plot(X,Y,'b.')\n",
    "plot(X,Y_true,'r.')\n",
    "xlabel('X')\n",
    "ylabel('Y')"
   ]
  },
  {
   "cell_type": "markdown",
   "metadata": {},
   "source": [
    "Here we modify the hidden layer to account for the 2 output variables $Y_0$ et $Y_1$."
   ]
  },
  {
   "cell_type": "code",
   "execution_count": 6,
   "metadata": {
    "scrolled": true
   },
   "outputs": [
    {
     "name": "stdout",
     "output_type": "stream",
     "text": [
      "Train on 800 samples, validate on 200 samples\n",
      "Epoch 1/100\n",
      "800/800 [==============================] - 0s 179us/step - loss: 1.6576 - val_loss: 1.3212\n",
      "Epoch 2/100\n",
      "800/800 [==============================] - 0s 63us/step - loss: 1.0773 - val_loss: 1.0007\n",
      "Epoch 3/100\n",
      "800/800 [==============================] - 0s 57us/step - loss: 0.9035 - val_loss: 0.8558\n",
      "Epoch 4/100\n",
      "800/800 [==============================] - 0s 52us/step - loss: 0.8397 - val_loss: 0.8238\n",
      "Epoch 5/100\n",
      "800/800 [==============================] - 0s 56us/step - loss: 0.8282 - val_loss: 0.7947\n",
      "Epoch 6/100\n",
      "800/800 [==============================] - 0s 70us/step - loss: 0.8217 - val_loss: 0.8044\n",
      "Epoch 7/100\n",
      "800/800 [==============================] - 0s 61us/step - loss: 0.8242 - val_loss: 0.8160\n",
      "Epoch 8/100\n",
      "800/800 [==============================] - 0s 60us/step - loss: 0.8165 - val_loss: 0.7837\n",
      "Epoch 9/100\n",
      "800/800 [==============================] - 0s 54us/step - loss: 0.8159 - val_loss: 0.7960\n",
      "Epoch 10/100\n",
      "800/800 [==============================] - 0s 60us/step - loss: 0.8164 - val_loss: 0.7899\n",
      "Epoch 11/100\n",
      "800/800 [==============================] - 0s 55us/step - loss: 0.8137 - val_loss: 0.7776\n",
      "Epoch 12/100\n",
      "800/800 [==============================] - 0s 61us/step - loss: 0.8166 - val_loss: 0.7813\n",
      "Epoch 13/100\n",
      "800/800 [==============================] - 0s 57us/step - loss: 0.8156 - val_loss: 0.7815\n",
      "Epoch 14/100\n",
      "800/800 [==============================] - 0s 60us/step - loss: 0.8166 - val_loss: 0.7824\n",
      "Epoch 15/100\n",
      "800/800 [==============================] - 0s 50us/step - loss: 0.8152 - val_loss: 0.7774\n",
      "Epoch 16/100\n",
      "800/800 [==============================] - 0s 62us/step - loss: 0.8154 - val_loss: 0.7821\n",
      "Epoch 17/100\n",
      "800/800 [==============================] - 0s 68us/step - loss: 0.8136 - val_loss: 0.8011\n",
      "Epoch 18/100\n",
      "800/800 [==============================] - 0s 64us/step - loss: 0.8144 - val_loss: 0.7898\n",
      "Epoch 19/100\n",
      "800/800 [==============================] - 0s 68us/step - loss: 0.8145 - val_loss: 0.7883\n",
      "Epoch 20/100\n",
      "800/800 [==============================] - 0s 66us/step - loss: 0.8144 - val_loss: 0.7916\n",
      "Epoch 21/100\n",
      "800/800 [==============================] - 0s 73us/step - loss: 0.8140 - val_loss: 0.7838\n",
      "Epoch 22/100\n",
      "800/800 [==============================] - 0s 69us/step - loss: 0.8153 - val_loss: 0.7852\n",
      "Epoch 23/100\n",
      "800/800 [==============================] - 0s 60us/step - loss: 0.8139 - val_loss: 0.7980\n",
      "Epoch 24/100\n",
      "800/800 [==============================] - 0s 66us/step - loss: 0.8136 - val_loss: 0.7937\n",
      "Epoch 25/100\n",
      "800/800 [==============================] - 0s 60us/step - loss: 0.8144 - val_loss: 0.7861\n",
      "Epoch 26/100\n",
      "800/800 [==============================] - 0s 61us/step - loss: 0.8148 - val_loss: 0.7841\n",
      "Epoch 27/100\n",
      "800/800 [==============================] - 0s 65us/step - loss: 0.8119 - val_loss: 0.7861\n",
      "Epoch 28/100\n",
      "800/800 [==============================] - 0s 67us/step - loss: 0.8135 - val_loss: 0.7855\n",
      "Epoch 29/100\n",
      "800/800 [==============================] - 0s 61us/step - loss: 0.8120 - val_loss: 0.7844\n",
      "Epoch 30/100\n",
      "800/800 [==============================] - 0s 67us/step - loss: 0.8126 - val_loss: 0.7800\n",
      "Epoch 31/100\n",
      "800/800 [==============================] - 0s 59us/step - loss: 0.8131 - val_loss: 0.7822\n",
      "Epoch 32/100\n",
      "800/800 [==============================] - 0s 66us/step - loss: 0.8128 - val_loss: 0.7830\n",
      "Epoch 33/100\n",
      "800/800 [==============================] - 0s 66us/step - loss: 0.8129 - val_loss: 0.7837\n",
      "Epoch 34/100\n",
      "800/800 [==============================] - 0s 60us/step - loss: 0.8127 - val_loss: 0.7828\n",
      "Epoch 35/100\n",
      "800/800 [==============================] - 0s 71us/step - loss: 0.8123 - val_loss: 0.7804\n",
      "Epoch 36/100\n",
      "800/800 [==============================] - 0s 69us/step - loss: 0.8132 - val_loss: 0.7874\n",
      "Epoch 37/100\n",
      "800/800 [==============================] - 0s 63us/step - loss: 0.8120 - val_loss: 0.7871\n",
      "Epoch 38/100\n",
      "800/800 [==============================] - 0s 66us/step - loss: 0.8130 - val_loss: 0.7865\n",
      "Epoch 39/100\n",
      "800/800 [==============================] - 0s 54us/step - loss: 0.8121 - val_loss: 0.7836\n",
      "Epoch 40/100\n",
      "800/800 [==============================] - 0s 80us/step - loss: 0.8125 - val_loss: 0.7820\n",
      "Epoch 41/100\n",
      "800/800 [==============================] - 0s 61us/step - loss: 0.8122 - val_loss: 0.7827\n",
      "Epoch 42/100\n",
      "800/800 [==============================] - 0s 74us/step - loss: 0.8130 - val_loss: 0.7838\n",
      "Epoch 43/100\n",
      "800/800 [==============================] - 0s 87us/step - loss: 0.8112 - val_loss: 0.7881\n",
      "Epoch 44/100\n",
      "800/800 [==============================] - 0s 73us/step - loss: 0.8126 - val_loss: 0.7843\n",
      "Epoch 45/100\n",
      "800/800 [==============================] - 0s 106us/step - loss: 0.8115 - val_loss: 0.7846\n",
      "Epoch 46/100\n",
      "800/800 [==============================] - 0s 74us/step - loss: 0.8117 - val_loss: 0.7833\n",
      "Epoch 47/100\n",
      "800/800 [==============================] - 0s 63us/step - loss: 0.8125 - val_loss: 0.7830\n",
      "Epoch 48/100\n",
      "800/800 [==============================] - 0s 63us/step - loss: 0.8124 - val_loss: 0.7874\n",
      "Epoch 49/100\n",
      "800/800 [==============================] - 0s 67us/step - loss: 0.8120 - val_loss: 0.7871\n",
      "Epoch 50/100\n",
      "800/800 [==============================] - 0s 78us/step - loss: 0.8119 - val_loss: 0.7830\n",
      "Epoch 51/100\n",
      "800/800 [==============================] - 0s 85us/step - loss: 0.8116 - val_loss: 0.7869\n",
      "Epoch 52/100\n",
      "800/800 [==============================] - 0s 69us/step - loss: 0.8123 - val_loss: 0.7860\n",
      "Epoch 53/100\n",
      "800/800 [==============================] - 0s 95us/step - loss: 0.8118 - val_loss: 0.7823\n",
      "Epoch 54/100\n",
      "800/800 [==============================] - 0s 67us/step - loss: 0.8117 - val_loss: 0.7838\n",
      "Epoch 55/100\n",
      "800/800 [==============================] - 0s 76us/step - loss: 0.8118 - val_loss: 0.7849\n",
      "Epoch 56/100\n",
      "800/800 [==============================] - 0s 86us/step - loss: 0.8123 - val_loss: 0.7868\n",
      "Epoch 57/100\n",
      "800/800 [==============================] - 0s 67us/step - loss: 0.8124 - val_loss: 0.7848\n",
      "Epoch 58/100\n",
      "800/800 [==============================] - 0s 75us/step - loss: 0.8113 - val_loss: 0.7820\n",
      "Epoch 59/100\n",
      "800/800 [==============================] - 0s 70us/step - loss: 0.8114 - val_loss: 0.7822\n",
      "Epoch 60/100\n",
      "800/800 [==============================] - 0s 67us/step - loss: 0.8118 - val_loss: 0.7815\n",
      "Epoch 61/100\n",
      "800/800 [==============================] - 0s 63us/step - loss: 0.8120 - val_loss: 0.7848\n",
      "Epoch 62/100\n",
      "800/800 [==============================] - 0s 63us/step - loss: 0.8121 - val_loss: 0.7852\n",
      "Epoch 63/100\n",
      "800/800 [==============================] - 0s 70us/step - loss: 0.8121 - val_loss: 0.7864\n",
      "Epoch 64/100\n",
      "800/800 [==============================] - 0s 65us/step - loss: 0.8115 - val_loss: 0.7866\n",
      "Epoch 65/100\n",
      "800/800 [==============================] - 0s 80us/step - loss: 0.8122 - val_loss: 0.7843\n",
      "Epoch 66/100\n",
      "800/800 [==============================] - 0s 61us/step - loss: 0.8118 - val_loss: 0.7842\n",
      "Epoch 67/100\n",
      "800/800 [==============================] - 0s 75us/step - loss: 0.8115 - val_loss: 0.7820\n",
      "Epoch 68/100\n",
      "800/800 [==============================] - 0s 71us/step - loss: 0.8117 - val_loss: 0.7841\n",
      "Epoch 69/100\n",
      "800/800 [==============================] - 0s 59us/step - loss: 0.8113 - val_loss: 0.7844\n",
      "Epoch 70/100\n",
      "800/800 [==============================] - 0s 84us/step - loss: 0.8113 - val_loss: 0.7865\n",
      "Epoch 71/100\n",
      "800/800 [==============================] - 0s 61us/step - loss: 0.8114 - val_loss: 0.7860\n",
      "Epoch 72/100\n",
      "800/800 [==============================] - 0s 84us/step - loss: 0.8108 - val_loss: 0.7823\n",
      "Epoch 73/100\n",
      "800/800 [==============================] - 0s 71us/step - loss: 0.8116 - val_loss: 0.7850\n",
      "Epoch 74/100\n",
      "800/800 [==============================] - 0s 66us/step - loss: 0.8117 - val_loss: 0.7852\n",
      "Epoch 75/100\n",
      "800/800 [==============================] - 0s 81us/step - loss: 0.8116 - val_loss: 0.7847\n",
      "Epoch 76/100\n",
      "800/800 [==============================] - 0s 55us/step - loss: 0.8116 - val_loss: 0.7876\n",
      "Epoch 77/100\n",
      "800/800 [==============================] - 0s 72us/step - loss: 0.8118 - val_loss: 0.7842\n",
      "Epoch 78/100\n",
      "800/800 [==============================] - 0s 64us/step - loss: 0.8113 - val_loss: 0.7847\n",
      "Epoch 79/100\n",
      "800/800 [==============================] - 0s 83us/step - loss: 0.8115 - val_loss: 0.7841\n",
      "Epoch 80/100\n"
     ]
    },
    {
     "name": "stdout",
     "output_type": "stream",
     "text": [
      "800/800 [==============================] - 0s 85us/step - loss: 0.8112 - val_loss: 0.7859\n",
      "Epoch 81/100\n",
      "800/800 [==============================] - 0s 66us/step - loss: 0.8117 - val_loss: 0.7838\n",
      "Epoch 82/100\n",
      "800/800 [==============================] - 0s 62us/step - loss: 0.8120 - val_loss: 0.7840\n",
      "Epoch 83/100\n",
      "800/800 [==============================] - 0s 80us/step - loss: 0.8117 - val_loss: 0.7839\n",
      "Epoch 84/100\n",
      "800/800 [==============================] - 0s 70us/step - loss: 0.8109 - val_loss: 0.7838\n",
      "Epoch 85/100\n",
      "800/800 [==============================] - 0s 82us/step - loss: 0.8113 - val_loss: 0.7850\n",
      "Epoch 86/100\n",
      "800/800 [==============================] - 0s 70us/step - loss: 0.8112 - val_loss: 0.7854\n",
      "Epoch 87/100\n",
      "800/800 [==============================] - 0s 105us/step - loss: 0.8120 - val_loss: 0.7838\n",
      "Epoch 88/100\n",
      "800/800 [==============================] - 0s 69us/step - loss: 0.8113 - val_loss: 0.7832\n",
      "Epoch 89/100\n",
      "800/800 [==============================] - 0s 58us/step - loss: 0.8113 - val_loss: 0.7839\n",
      "Epoch 90/100\n",
      "800/800 [==============================] - 0s 62us/step - loss: 0.8116 - val_loss: 0.7839\n",
      "Epoch 91/100\n",
      "800/800 [==============================] - 0s 70us/step - loss: 0.8116 - val_loss: 0.7836\n",
      "Epoch 92/100\n",
      "800/800 [==============================] - 0s 55us/step - loss: 0.8119 - val_loss: 0.7834\n",
      "Epoch 93/100\n",
      "800/800 [==============================] - 0s 72us/step - loss: 0.8114 - val_loss: 0.7852\n",
      "Epoch 94/100\n",
      "800/800 [==============================] - 0s 80us/step - loss: 0.8113 - val_loss: 0.7861\n",
      "Epoch 95/100\n",
      "800/800 [==============================] - 0s 67us/step - loss: 0.8114 - val_loss: 0.7840\n",
      "Epoch 96/100\n",
      "800/800 [==============================] - 0s 65us/step - loss: 0.8113 - val_loss: 0.7845\n",
      "Epoch 97/100\n",
      "800/800 [==============================] - 0s 58us/step - loss: 0.8108 - val_loss: 0.7825\n",
      "Epoch 98/100\n",
      "800/800 [==============================] - 0s 82us/step - loss: 0.8113 - val_loss: 0.7844\n",
      "Epoch 99/100\n",
      "800/800 [==============================] - 0s 70us/step - loss: 0.8110 - val_loss: 0.7853\n",
      "Epoch 100/100\n",
      "800/800 [==============================] - 0s 95us/step - loss: 0.8112 - val_loss: 0.7838\n"
     ]
    },
    {
     "data": {
      "text/plain": [
       "[array([[ 0.50410146, -0.5061168 ]], dtype=float32),\n",
       " array([ 2.009722 , -1.9068071], dtype=float32)]"
      ]
     },
     "execution_count": 6,
     "metadata": {},
     "output_type": "execute_result"
    }
   ],
   "source": [
    "# Build our model\n",
    "model_regress2 = Sequential()\n",
    "\n",
    "# Declare the layers\n",
    "layers = [Dense(units=2,input_dim=1), Activation('linear')]\n",
    "\n",
    "# Add the layers to the model\n",
    "for layer in layers:\n",
    "    model_regress2.add(layer)\n",
    "    \n",
    "# Configure an optimizer used to minimize the loss function\n",
    "sgd = SGD(lr=0.1, decay=.01)\n",
    "\n",
    "# Compile our model\n",
    "model_regress2.compile(loss='mean_absolute_error', optimizer=sgd)\n",
    " \n",
    "# Fit the model\n",
    "model_regress2.fit(X, Y, validation_split=0.2, epochs=100)\n",
    "                   \n",
    "# Model weights\n",
    "model_regress2.get_weights()"
   ]
  },
  {
   "cell_type": "markdown",
   "metadata": {},
   "source": [
    "We then compare the fitted (green) and true (red) models."
   ]
  },
  {
   "cell_type": "code",
   "execution_count": 7,
   "metadata": {},
   "outputs": [
    {
     "data": {
      "text/plain": [
       "Text(0,0.5,'Y')"
      ]
     },
     "execution_count": 7,
     "metadata": {},
     "output_type": "execute_result"
    },
    {
     "data": {
      "image/png": "[encoded data removed]",
      "text/plain": [
       "<matplotlib.figure.Figure at 0x7f34486a0cc0>"
      ]
     },
     "metadata": {
      "needs_background": "light"
     },
     "output_type": "display_data"
    }
   ],
   "source": [
    "# Make prediction using the model\n",
    "Y_hat = model_regress2.predict(X)\n",
    "\n",
    "# Plot train, test and hat\n",
    "plot(X,Y,'b.')\n",
    "plot(X,Y_true,'.r',linewidth=2)\n",
    "plot(X,Y_hat,'.g',linewidth=2)\n",
    "xlabel('X')\n",
    "ylabel('Y')"
   ]
  },
  {
   "cell_type": "markdown",
   "metadata": {},
   "source": [
    "**Classification problems**\n",
    "\n",
    "In a classification problem, $Y$ is a discrete variable with various classes. Here, $Y$ is binary and takes its values between $0$ and $1$. We write the model as $Y=f\\left(2+0.5 X\\right)$ with $f$ the logistic transfer function (sigmoid). As previously we generate $Y$ adding Gaussian perturbations."
   ]
  },
  {
   "cell_type": "code",
   "execution_count": 8,
   "metadata": {},
   "outputs": [
    {
     "data": {
      "text/plain": [
       "Text(0,0.5,'Y')"
      ]
     },
     "execution_count": 8,
     "metadata": {},
     "output_type": "execute_result"
    },
    {
     "data": {
      "image/png": "[encoded data removed]",
      "text/plain": [
       "<matplotlib.figure.Figure at 0x7f34257d87b8>"
      ]
     },
     "metadata": {
      "needs_background": "light"
     },
     "output_type": "display_data"
    }
   ],
   "source": [
    "# Generate data\n",
    "n=1000\n",
    "X=random.uniform(-14,8,n)\n",
    "Y_true=1/(1+exp(-(2+0.5*X))) # true model\n",
    "Y_noise=1/(1+exp(-(2+0.5*X+random.normal(0,1,n)))) # add noise to the truth\n",
    "Y=(Y_noise>0.5).astype(float) # transform to binary data\n",
    "\n",
    "# Plot true model and noisy data\n",
    "plot(X,Y_true,'r.')\n",
    "plot(X,Y_noise,'g.')\n",
    "plot(X,Y,'b.')\n",
    "xlabel('X')\n",
    "ylabel('Y')"
   ]
  },
  {
   "cell_type": "markdown",
   "metadata": {},
   "source": [
    "We build our neural net using a sigmoid activation function, corresponding to the logistic function. For such a classification problem, we try to minimize a loss function based on the binary cross-entropy."
   ]
  },
  {
   "cell_type": "code",
   "execution_count": 9,
   "metadata": {
    "scrolled": true
   },
   "outputs": [
    {
     "name": "stdout",
     "output_type": "stream",
     "text": [
      "Train on 800 samples, validate on 200 samples\n",
      "Epoch 1/200\n",
      "800/800 [==============================] - 0s 245us/step - loss: 0.3454 - val_loss: 0.3397\n",
      "Epoch 2/200\n",
      "800/800 [==============================] - 0s 88us/step - loss: 0.3074 - val_loss: 0.3098\n",
      "Epoch 3/200\n",
      "800/800 [==============================] - 0s 86us/step - loss: 0.2852 - val_loss: 0.2911\n",
      "Epoch 4/200\n",
      "800/800 [==============================] - 0s 81us/step - loss: 0.2708 - val_loss: 0.2789\n",
      "Epoch 5/200\n",
      "800/800 [==============================] - 0s 83us/step - loss: 0.2611 - val_loss: 0.2695\n",
      "Epoch 6/200\n",
      "800/800 [==============================] - 0s 93us/step - loss: 0.2543 - val_loss: 0.2627\n",
      "Epoch 7/200\n",
      "800/800 [==============================] - 0s 91us/step - loss: 0.2484 - val_loss: 0.2572\n",
      "Epoch 8/200\n",
      "800/800 [==============================] - 0s 81us/step - loss: 0.2446 - val_loss: 0.2529\n",
      "Epoch 9/200\n",
      "800/800 [==============================] - 0s 82us/step - loss: 0.2407 - val_loss: 0.2493\n",
      "Epoch 10/200\n",
      "800/800 [==============================] - 0s 80us/step - loss: 0.2380 - val_loss: 0.2462\n",
      "Epoch 11/200\n",
      "800/800 [==============================] - 0s 95us/step - loss: 0.2351 - val_loss: 0.2435\n",
      "Epoch 12/200\n",
      "800/800 [==============================] - 0s 73us/step - loss: 0.2329 - val_loss: 0.2413\n",
      "Epoch 13/200\n",
      "800/800 [==============================] - 0s 95us/step - loss: 0.2312 - val_loss: 0.2393\n",
      "Epoch 14/200\n",
      "800/800 [==============================] - 0s 104us/step - loss: 0.2292 - val_loss: 0.2375\n",
      "Epoch 15/200\n",
      "800/800 [==============================] - 0s 92us/step - loss: 0.2279 - val_loss: 0.2359\n",
      "Epoch 16/200\n",
      "800/800 [==============================] - 0s 100us/step - loss: 0.2265 - val_loss: 0.2346\n",
      "Epoch 17/200\n",
      "800/800 [==============================] - 0s 85us/step - loss: 0.2255 - val_loss: 0.2333\n",
      "Epoch 18/200\n",
      "800/800 [==============================] - 0s 84us/step - loss: 0.2243 - val_loss: 0.2321\n",
      "Epoch 19/200\n",
      "800/800 [==============================] - 0s 110us/step - loss: 0.2233 - val_loss: 0.2310\n",
      "Epoch 20/200\n",
      "800/800 [==============================] - 0s 88us/step - loss: 0.2226 - val_loss: 0.2300\n",
      "Epoch 21/200\n",
      "800/800 [==============================] - 0s 107us/step - loss: 0.2217 - val_loss: 0.2291\n",
      "Epoch 22/200\n",
      "800/800 [==============================] - 0s 98us/step - loss: 0.2209 - val_loss: 0.2282\n",
      "Epoch 23/200\n",
      "800/800 [==============================] - 0s 91us/step - loss: 0.2202 - val_loss: 0.2275\n",
      "Epoch 24/200\n",
      "800/800 [==============================] - 0s 95us/step - loss: 0.2196 - val_loss: 0.2268\n",
      "Epoch 25/200\n",
      "800/800 [==============================] - 0s 87us/step - loss: 0.2189 - val_loss: 0.2261\n",
      "Epoch 26/200\n",
      "800/800 [==============================] - 0s 87us/step - loss: 0.2183 - val_loss: 0.2254\n",
      "Epoch 27/200\n",
      "800/800 [==============================] - 0s 88us/step - loss: 0.2177 - val_loss: 0.2248\n",
      "Epoch 28/200\n",
      "800/800 [==============================] - 0s 93us/step - loss: 0.2173 - val_loss: 0.2242\n",
      "Epoch 29/200\n",
      "800/800 [==============================] - 0s 110us/step - loss: 0.2169 - val_loss: 0.2237\n",
      "Epoch 30/200\n",
      "800/800 [==============================] - 0s 105us/step - loss: 0.2165 - val_loss: 0.2232\n",
      "Epoch 31/200\n",
      "800/800 [==============================] - 0s 99us/step - loss: 0.2159 - val_loss: 0.2227\n",
      "Epoch 32/200\n",
      "800/800 [==============================] - 0s 81us/step - loss: 0.2155 - val_loss: 0.2223\n",
      "Epoch 33/200\n",
      "800/800 [==============================] - 0s 76us/step - loss: 0.2152 - val_loss: 0.2218\n",
      "Epoch 34/200\n",
      "800/800 [==============================] - 0s 81us/step - loss: 0.2149 - val_loss: 0.2214\n",
      "Epoch 35/200\n",
      "800/800 [==============================] - 0s 80us/step - loss: 0.2145 - val_loss: 0.2210\n",
      "Epoch 36/200\n",
      "800/800 [==============================] - 0s 93us/step - loss: 0.2142 - val_loss: 0.2206\n",
      "Epoch 37/200\n",
      "800/800 [==============================] - 0s 81us/step - loss: 0.2138 - val_loss: 0.2202\n",
      "Epoch 38/200\n",
      "800/800 [==============================] - 0s 79us/step - loss: 0.2136 - val_loss: 0.2199\n",
      "Epoch 39/200\n",
      "800/800 [==============================] - 0s 97us/step - loss: 0.2133 - val_loss: 0.2195\n",
      "Epoch 40/200\n",
      "800/800 [==============================] - 0s 83us/step - loss: 0.2130 - val_loss: 0.2192\n",
      "Epoch 41/200\n",
      "800/800 [==============================] - 0s 102us/step - loss: 0.2128 - val_loss: 0.2189\n",
      "Epoch 42/200\n",
      "800/800 [==============================] - 0s 98us/step - loss: 0.2125 - val_loss: 0.2186\n",
      "Epoch 43/200\n",
      "800/800 [==============================] - 0s 82us/step - loss: 0.2123 - val_loss: 0.2183\n",
      "Epoch 44/200\n",
      "800/800 [==============================] - 0s 91us/step - loss: 0.2120 - val_loss: 0.2181\n",
      "Epoch 45/200\n",
      "800/800 [==============================] - 0s 85us/step - loss: 0.2118 - val_loss: 0.2178\n",
      "Epoch 46/200\n",
      "800/800 [==============================] - 0s 107us/step - loss: 0.2115 - val_loss: 0.2175\n",
      "Epoch 47/200\n",
      "800/800 [==============================] - 0s 98us/step - loss: 0.2114 - val_loss: 0.2173\n",
      "Epoch 48/200\n",
      "800/800 [==============================] - 0s 94us/step - loss: 0.2112 - val_loss: 0.2170\n",
      "Epoch 49/200\n",
      "800/800 [==============================] - 0s 92us/step - loss: 0.2110 - val_loss: 0.2168\n",
      "Epoch 50/200\n",
      "800/800 [==============================] - 0s 74us/step - loss: 0.2108 - val_loss: 0.2166\n",
      "Epoch 51/200\n",
      "800/800 [==============================] - 0s 73us/step - loss: 0.2106 - val_loss: 0.2164\n",
      "Epoch 52/200\n",
      "800/800 [==============================] - 0s 87us/step - loss: 0.2104 - val_loss: 0.2162\n",
      "Epoch 53/200\n",
      "800/800 [==============================] - 0s 90us/step - loss: 0.2103 - val_loss: 0.2160\n",
      "Epoch 54/200\n",
      "800/800 [==============================] - 0s 85us/step - loss: 0.2101 - val_loss: 0.2158\n",
      "Epoch 55/200\n",
      "800/800 [==============================] - 0s 78us/step - loss: 0.2100 - val_loss: 0.2156\n",
      "Epoch 56/200\n",
      "800/800 [==============================] - 0s 80us/step - loss: 0.2098 - val_loss: 0.2154\n",
      "Epoch 57/200\n",
      "800/800 [==============================] - 0s 95us/step - loss: 0.2097 - val_loss: 0.2152\n",
      "Epoch 58/200\n",
      "800/800 [==============================] - 0s 75us/step - loss: 0.2095 - val_loss: 0.2150\n",
      "Epoch 59/200\n",
      "800/800 [==============================] - 0s 85us/step - loss: 0.2094 - val_loss: 0.2149\n",
      "Epoch 60/200\n",
      "800/800 [==============================] - 0s 71us/step - loss: 0.2092 - val_loss: 0.2147\n",
      "Epoch 61/200\n",
      "800/800 [==============================] - 0s 80us/step - loss: 0.2091 - val_loss: 0.2145\n",
      "Epoch 62/200\n",
      "800/800 [==============================] - 0s 87us/step - loss: 0.2089 - val_loss: 0.2144\n",
      "Epoch 63/200\n",
      "800/800 [==============================] - 0s 80us/step - loss: 0.2088 - val_loss: 0.2142\n",
      "Epoch 64/200\n",
      "800/800 [==============================] - 0s 77us/step - loss: 0.2087 - val_loss: 0.2141\n",
      "Epoch 65/200\n",
      "800/800 [==============================] - 0s 73us/step - loss: 0.2085 - val_loss: 0.2139\n",
      "Epoch 66/200\n",
      "800/800 [==============================] - 0s 83us/step - loss: 0.2085 - val_loss: 0.2138\n",
      "Epoch 67/200\n",
      "800/800 [==============================] - 0s 94us/step - loss: 0.2084 - val_loss: 0.2136\n",
      "Epoch 68/200\n",
      "800/800 [==============================] - 0s 83us/step - loss: 0.2082 - val_loss: 0.2135\n",
      "Epoch 69/200\n",
      "800/800 [==============================] - 0s 75us/step - loss: 0.2081 - val_loss: 0.2134\n",
      "Epoch 70/200\n",
      "800/800 [==============================] - 0s 74us/step - loss: 0.2080 - val_loss: 0.2132\n",
      "Epoch 71/200\n",
      "800/800 [==============================] - 0s 83us/step - loss: 0.2079 - val_loss: 0.2131\n",
      "Epoch 72/200\n",
      "800/800 [==============================] - 0s 74us/step - loss: 0.2078 - val_loss: 0.2130\n",
      "Epoch 73/200\n",
      "800/800 [==============================] - 0s 83us/step - loss: 0.2077 - val_loss: 0.2128\n",
      "Epoch 74/200\n",
      "800/800 [==============================] - 0s 74us/step - loss: 0.2076 - val_loss: 0.2127\n",
      "Epoch 75/200\n",
      "800/800 [==============================] - 0s 91us/step - loss: 0.2075 - val_loss: 0.2126\n",
      "Epoch 76/200\n",
      "800/800 [==============================] - 0s 87us/step - loss: 0.2074 - val_loss: 0.2125\n",
      "Epoch 77/200\n",
      "800/800 [==============================] - 0s 72us/step - loss: 0.2073 - val_loss: 0.2124\n",
      "Epoch 78/200\n",
      "800/800 [==============================] - 0s 74us/step - loss: 0.2072 - val_loss: 0.2123\n",
      "Epoch 79/200\n",
      "800/800 [==============================] - 0s 81us/step - loss: 0.2072 - val_loss: 0.2122\n",
      "Epoch 80/200\n"
     ]
    },
    {
     "name": "stdout",
     "output_type": "stream",
     "text": [
      "800/800 [==============================] - 0s 76us/step - loss: 0.2071 - val_loss: 0.2120\n",
      "Epoch 81/200\n",
      "800/800 [==============================] - 0s 90us/step - loss: 0.2069 - val_loss: 0.2119\n",
      "Epoch 82/200\n",
      "800/800 [==============================] - 0s 87us/step - loss: 0.2069 - val_loss: 0.2118\n",
      "Epoch 83/200\n",
      "800/800 [==============================] - 0s 73us/step - loss: 0.2068 - val_loss: 0.2117\n",
      "Epoch 84/200\n",
      "800/800 [==============================] - 0s 83us/step - loss: 0.2067 - val_loss: 0.2116\n",
      "Epoch 85/200\n",
      "800/800 [==============================] - 0s 73us/step - loss: 0.2066 - val_loss: 0.2115\n",
      "Epoch 86/200\n",
      "800/800 [==============================] - 0s 80us/step - loss: 0.2066 - val_loss: 0.2114\n",
      "Epoch 87/200\n",
      "800/800 [==============================] - 0s 94us/step - loss: 0.2065 - val_loss: 0.2114\n",
      "Epoch 88/200\n",
      "800/800 [==============================] - 0s 97us/step - loss: 0.2064 - val_loss: 0.2113\n",
      "Epoch 89/200\n",
      "800/800 [==============================] - 0s 81us/step - loss: 0.2064 - val_loss: 0.2112\n",
      "Epoch 90/200\n",
      "800/800 [==============================] - 0s 81us/step - loss: 0.2063 - val_loss: 0.2111\n",
      "Epoch 91/200\n",
      "800/800 [==============================] - 0s 74us/step - loss: 0.2062 - val_loss: 0.2110\n",
      "Epoch 92/200\n",
      "800/800 [==============================] - 0s 91us/step - loss: 0.2061 - val_loss: 0.2109\n",
      "Epoch 93/200\n",
      "800/800 [==============================] - 0s 92us/step - loss: 0.2061 - val_loss: 0.2108\n",
      "Epoch 94/200\n",
      "800/800 [==============================] - 0s 74us/step - loss: 0.2060 - val_loss: 0.2108\n",
      "Epoch 95/200\n",
      "800/800 [==============================] - 0s 87us/step - loss: 0.2060 - val_loss: 0.2107\n",
      "Epoch 96/200\n",
      "800/800 [==============================] - 0s 75us/step - loss: 0.2059 - val_loss: 0.2106\n",
      "Epoch 97/200\n",
      "800/800 [==============================] - 0s 93us/step - loss: 0.2058 - val_loss: 0.2105\n",
      "Epoch 98/200\n",
      "800/800 [==============================] - 0s 81us/step - loss: 0.2057 - val_loss: 0.2104\n",
      "Epoch 99/200\n",
      "800/800 [==============================] - 0s 86us/step - loss: 0.2057 - val_loss: 0.2103\n",
      "Epoch 100/200\n",
      "800/800 [==============================] - 0s 75us/step - loss: 0.2057 - val_loss: 0.2103\n",
      "Epoch 101/200\n",
      "800/800 [==============================] - 0s 81us/step - loss: 0.2056 - val_loss: 0.2102\n",
      "Epoch 102/200\n",
      "800/800 [==============================] - 0s 87us/step - loss: 0.2055 - val_loss: 0.2101\n",
      "Epoch 103/200\n",
      "800/800 [==============================] - 0s 95us/step - loss: 0.2055 - val_loss: 0.2100\n",
      "Epoch 104/200\n",
      "800/800 [==============================] - 0s 98us/step - loss: 0.2055 - val_loss: 0.2100\n",
      "Epoch 105/200\n",
      "800/800 [==============================] - 0s 81us/step - loss: 0.2053 - val_loss: 0.2099\n",
      "Epoch 106/200\n",
      "800/800 [==============================] - 0s 84us/step - loss: 0.2053 - val_loss: 0.2098\n",
      "Epoch 107/200\n",
      "800/800 [==============================] - 0s 90us/step - loss: 0.2052 - val_loss: 0.2098\n",
      "Epoch 108/200\n",
      "800/800 [==============================] - 0s 76us/step - loss: 0.2052 - val_loss: 0.2097\n",
      "Epoch 109/200\n",
      "800/800 [==============================] - 0s 84us/step - loss: 0.2051 - val_loss: 0.2096\n",
      "Epoch 110/200\n",
      "800/800 [==============================] - 0s 78us/step - loss: 0.2051 - val_loss: 0.2096\n",
      "Epoch 111/200\n",
      "800/800 [==============================] - 0s 95us/step - loss: 0.2050 - val_loss: 0.2095\n",
      "Epoch 112/200\n",
      "800/800 [==============================] - 0s 69us/step - loss: 0.2050 - val_loss: 0.2094\n",
      "Epoch 113/200\n",
      "800/800 [==============================] - 0s 83us/step - loss: 0.2049 - val_loss: 0.2094\n",
      "Epoch 114/200\n",
      "800/800 [==============================] - 0s 88us/step - loss: 0.2049 - val_loss: 0.2093\n",
      "Epoch 115/200\n",
      "800/800 [==============================] - 0s 78us/step - loss: 0.2048 - val_loss: 0.2093\n",
      "Epoch 116/200\n",
      "800/800 [==============================] - 0s 85us/step - loss: 0.2048 - val_loss: 0.2092\n",
      "Epoch 117/200\n",
      "800/800 [==============================] - 0s 82us/step - loss: 0.2047 - val_loss: 0.2091\n",
      "Epoch 118/200\n",
      "800/800 [==============================] - 0s 85us/step - loss: 0.2047 - val_loss: 0.2091\n",
      "Epoch 119/200\n",
      "800/800 [==============================] - 0s 82us/step - loss: 0.2046 - val_loss: 0.2090\n",
      "Epoch 120/200\n",
      "800/800 [==============================] - 0s 85us/step - loss: 0.2046 - val_loss: 0.2090\n",
      "Epoch 121/200\n",
      "800/800 [==============================] - 0s 86us/step - loss: 0.2046 - val_loss: 0.2089\n",
      "Epoch 122/200\n",
      "800/800 [==============================] - 0s 91us/step - loss: 0.2045 - val_loss: 0.2089\n",
      "Epoch 123/200\n",
      "800/800 [==============================] - 0s 74us/step - loss: 0.2045 - val_loss: 0.2088\n",
      "Epoch 124/200\n",
      "800/800 [==============================] - 0s 102us/step - loss: 0.2045 - val_loss: 0.2087\n",
      "Epoch 125/200\n",
      "800/800 [==============================] - 0s 75us/step - loss: 0.2044 - val_loss: 0.2087\n",
      "Epoch 126/200\n",
      "800/800 [==============================] - 0s 101us/step - loss: 0.2044 - val_loss: 0.2086\n",
      "Epoch 127/200\n",
      "800/800 [==============================] - 0s 84us/step - loss: 0.2043 - val_loss: 0.2086\n",
      "Epoch 128/200\n",
      "800/800 [==============================] - 0s 75us/step - loss: 0.2043 - val_loss: 0.2085\n",
      "Epoch 129/200\n",
      "800/800 [==============================] - 0s 75us/step - loss: 0.2042 - val_loss: 0.2085\n",
      "Epoch 130/200\n",
      "800/800 [==============================] - 0s 97us/step - loss: 0.2042 - val_loss: 0.2084\n",
      "Epoch 131/200\n",
      "800/800 [==============================] - 0s 82us/step - loss: 0.2041 - val_loss: 0.2084\n",
      "Epoch 132/200\n",
      "800/800 [==============================] - 0s 98us/step - loss: 0.2041 - val_loss: 0.2083\n",
      "Epoch 133/200\n",
      "800/800 [==============================] - 0s 75us/step - loss: 0.2041 - val_loss: 0.2083\n",
      "Epoch 134/200\n",
      "800/800 [==============================] - 0s 72us/step - loss: 0.2040 - val_loss: 0.2082\n",
      "Epoch 135/200\n",
      "800/800 [==============================] - 0s 95us/step - loss: 0.2040 - val_loss: 0.2082\n",
      "Epoch 136/200\n",
      "800/800 [==============================] - 0s 80us/step - loss: 0.2040 - val_loss: 0.2081\n",
      "Epoch 137/200\n",
      "800/800 [==============================] - 0s 73us/step - loss: 0.2039 - val_loss: 0.2081\n",
      "Epoch 138/200\n",
      "800/800 [==============================] - 0s 92us/step - loss: 0.2039 - val_loss: 0.2080\n",
      "Epoch 139/200\n",
      "800/800 [==============================] - 0s 74us/step - loss: 0.2038 - val_loss: 0.2080\n",
      "Epoch 140/200\n",
      "800/800 [==============================] - 0s 88us/step - loss: 0.2038 - val_loss: 0.2080\n",
      "Epoch 141/200\n",
      "800/800 [==============================] - 0s 73us/step - loss: 0.2038 - val_loss: 0.2079\n",
      "Epoch 142/200\n",
      "800/800 [==============================] - 0s 100us/step - loss: 0.2037 - val_loss: 0.2079\n",
      "Epoch 143/200\n",
      "800/800 [==============================] - 0s 74us/step - loss: 0.2037 - val_loss: 0.2078\n",
      "Epoch 144/200\n",
      "800/800 [==============================] - 0s 78us/step - loss: 0.2037 - val_loss: 0.2078\n",
      "Epoch 145/200\n",
      "800/800 [==============================] - 0s 79us/step - loss: 0.2037 - val_loss: 0.2077\n",
      "Epoch 146/200\n",
      "800/800 [==============================] - 0s 75us/step - loss: 0.2036 - val_loss: 0.2077\n",
      "Epoch 147/200\n",
      "800/800 [==============================] - 0s 72us/step - loss: 0.2036 - val_loss: 0.2077\n",
      "Epoch 148/200\n",
      "800/800 [==============================] - 0s 72us/step - loss: 0.2035 - val_loss: 0.2076\n",
      "Epoch 149/200\n",
      "800/800 [==============================] - 0s 92us/step - loss: 0.2035 - val_loss: 0.2076\n",
      "Epoch 150/200\n",
      "800/800 [==============================] - 0s 73us/step - loss: 0.2035 - val_loss: 0.2075\n",
      "Epoch 151/200\n",
      "800/800 [==============================] - 0s 80us/step - loss: 0.2035 - val_loss: 0.2075\n",
      "Epoch 152/200\n",
      "800/800 [==============================] - 0s 86us/step - loss: 0.2034 - val_loss: 0.2074\n",
      "Epoch 153/200\n",
      "800/800 [==============================] - 0s 94us/step - loss: 0.2034 - val_loss: 0.2074\n",
      "Epoch 154/200\n",
      "800/800 [==============================] - 0s 82us/step - loss: 0.2034 - val_loss: 0.2074\n",
      "Epoch 155/200\n",
      "800/800 [==============================] - 0s 76us/step - loss: 0.2033 - val_loss: 0.2073\n",
      "Epoch 156/200\n",
      "800/800 [==============================] - 0s 95us/step - loss: 0.2033 - val_loss: 0.2073\n",
      "Epoch 157/200\n",
      "800/800 [==============================] - 0s 89us/step - loss: 0.2033 - val_loss: 0.2073\n",
      "Epoch 158/200\n",
      "800/800 [==============================] - 0s 88us/step - loss: 0.2032 - val_loss: 0.2072\n",
      "Epoch 159/200\n"
     ]
    },
    {
     "name": "stdout",
     "output_type": "stream",
     "text": [
      "800/800 [==============================] - 0s 70us/step - loss: 0.2032 - val_loss: 0.2072\n",
      "Epoch 160/200\n",
      "800/800 [==============================] - 0s 79us/step - loss: 0.2032 - val_loss: 0.2071\n",
      "Epoch 161/200\n",
      "800/800 [==============================] - 0s 75us/step - loss: 0.2032 - val_loss: 0.2071\n",
      "Epoch 162/200\n",
      "800/800 [==============================] - 0s 90us/step - loss: 0.2031 - val_loss: 0.2071\n",
      "Epoch 163/200\n",
      "800/800 [==============================] - 0s 98us/step - loss: 0.2031 - val_loss: 0.2070\n",
      "Epoch 164/200\n",
      "800/800 [==============================] - 0s 86us/step - loss: 0.2031 - val_loss: 0.2070\n",
      "Epoch 165/200\n",
      "800/800 [==============================] - 0s 85us/step - loss: 0.2031 - val_loss: 0.2070\n",
      "Epoch 166/200\n",
      "800/800 [==============================] - 0s 82us/step - loss: 0.2031 - val_loss: 0.2069\n",
      "Epoch 167/200\n",
      "800/800 [==============================] - 0s 103us/step - loss: 0.2030 - val_loss: 0.2069\n",
      "Epoch 168/200\n",
      "800/800 [==============================] - 0s 78us/step - loss: 0.2030 - val_loss: 0.2069\n",
      "Epoch 169/200\n",
      "800/800 [==============================] - 0s 79us/step - loss: 0.2029 - val_loss: 0.2068\n",
      "Epoch 170/200\n",
      "800/800 [==============================] - 0s 73us/step - loss: 0.2029 - val_loss: 0.2068\n",
      "Epoch 171/200\n",
      "800/800 [==============================] - 0s 91us/step - loss: 0.2029 - val_loss: 0.2068\n",
      "Epoch 172/200\n",
      "800/800 [==============================] - 0s 90us/step - loss: 0.2029 - val_loss: 0.2067\n",
      "Epoch 173/200\n",
      "800/800 [==============================] - 0s 96us/step - loss: 0.2029 - val_loss: 0.2067\n",
      "Epoch 174/200\n",
      "800/800 [==============================] - 0s 84us/step - loss: 0.2028 - val_loss: 0.2067\n",
      "Epoch 175/200\n",
      "800/800 [==============================] - 0s 75us/step - loss: 0.2028 - val_loss: 0.2066\n",
      "Epoch 176/200\n",
      "800/800 [==============================] - 0s 77us/step - loss: 0.2028 - val_loss: 0.2066\n",
      "Epoch 177/200\n",
      "800/800 [==============================] - 0s 75us/step - loss: 0.2027 - val_loss: 0.2066\n",
      "Epoch 178/200\n",
      "800/800 [==============================] - 0s 88us/step - loss: 0.2027 - val_loss: 0.2065\n",
      "Epoch 179/200\n",
      "800/800 [==============================] - 0s 76us/step - loss: 0.2027 - val_loss: 0.2065\n",
      "Epoch 180/200\n",
      "800/800 [==============================] - 0s 95us/step - loss: 0.2027 - val_loss: 0.2065\n",
      "Epoch 181/200\n",
      "800/800 [==============================] - 0s 75us/step - loss: 0.2027 - val_loss: 0.2064\n",
      "Epoch 182/200\n",
      "800/800 [==============================] - 0s 83us/step - loss: 0.2026 - val_loss: 0.2064\n",
      "Epoch 183/200\n",
      "800/800 [==============================] - 0s 75us/step - loss: 0.2026 - val_loss: 0.2064\n",
      "Epoch 184/200\n",
      "800/800 [==============================] - 0s 97us/step - loss: 0.2026 - val_loss: 0.2063\n",
      "Epoch 185/200\n",
      "800/800 [==============================] - 0s 91us/step - loss: 0.2026 - val_loss: 0.2063\n",
      "Epoch 186/200\n",
      "800/800 [==============================] - 0s 87us/step - loss: 0.2025 - val_loss: 0.2063\n",
      "Epoch 187/200\n",
      "800/800 [==============================] - 0s 90us/step - loss: 0.2025 - val_loss: 0.2063\n",
      "Epoch 188/200\n",
      "800/800 [==============================] - 0s 84us/step - loss: 0.2025 - val_loss: 0.2062\n",
      "Epoch 189/200\n",
      "800/800 [==============================] - 0s 83us/step - loss: 0.2025 - val_loss: 0.2062\n",
      "Epoch 190/200\n",
      "800/800 [==============================] - 0s 91us/step - loss: 0.2024 - val_loss: 0.2062\n",
      "Epoch 191/200\n",
      "800/800 [==============================] - 0s 102us/step - loss: 0.2024 - val_loss: 0.2061\n",
      "Epoch 192/200\n",
      "800/800 [==============================] - 0s 74us/step - loss: 0.2024 - val_loss: 0.2061\n",
      "Epoch 193/200\n",
      "800/800 [==============================] - 0s 75us/step - loss: 0.2024 - val_loss: 0.2061\n",
      "Epoch 194/200\n",
      "800/800 [==============================] - 0s 91us/step - loss: 0.2024 - val_loss: 0.2061\n",
      "Epoch 195/200\n",
      "800/800 [==============================] - 0s 84us/step - loss: 0.2023 - val_loss: 0.2060\n",
      "Epoch 196/200\n",
      "800/800 [==============================] - 0s 74us/step - loss: 0.2023 - val_loss: 0.2060\n",
      "Epoch 197/200\n",
      "800/800 [==============================] - 0s 89us/step - loss: 0.2023 - val_loss: 0.2060\n",
      "Epoch 198/200\n",
      "800/800 [==============================] - 0s 85us/step - loss: 0.2023 - val_loss: 0.2060\n",
      "Epoch 199/200\n",
      "800/800 [==============================] - 0s 83us/step - loss: 0.2023 - val_loss: 0.2059\n",
      "Epoch 200/200\n",
      "800/800 [==============================] - 0s 88us/step - loss: 0.2022 - val_loss: 0.2059\n"
     ]
    },
    {
     "data": {
      "text/plain": [
       "[array([[0.6168046]], dtype=float32), array([2.1348817], dtype=float32)]"
      ]
     },
     "execution_count": 9,
     "metadata": {},
     "output_type": "execute_result"
    }
   ],
   "source": [
    "# Build our model\n",
    "model_classif1 = Sequential()\n",
    "\n",
    "# Declare the layers\n",
    "layers = [Dense(units=1, input_dim=1), Activation('sigmoid')]\n",
    " \n",
    "# Add the layers to the model\n",
    "for layer in layers:\n",
    "    model_classif1.add(layer)\n",
    "    \n",
    "# Configure an optimizer used to minimize the loss function\n",
    "sgd = SGD(lr=0.1, decay=.01)\n",
    "\n",
    "# Compile our model\n",
    "model_classif1.compile(loss='binary_crossentropy', optimizer=sgd)\n",
    " \n",
    "# Fit the model\n",
    "model_classif1.fit(X, Y, validation_split=0.2, epochs=200)\n",
    "\n",
    "# Model weights\n",
    "model_classif1.get_weights()"
   ]
  },
  {
   "cell_type": "markdown",
   "metadata": {},
   "source": [
    "The estimated weights can be far from the true parameters ($0.5$ and $2$). To improve the estimation, we can increase the database (*n* in the above code) and the number of iterations to fit the model (*epochs* in the *fit* function). Then, we plot the true (red) and estimated (green) classification models."
   ]
  },
  {
   "cell_type": "code",
   "execution_count": 10,
   "metadata": {},
   "outputs": [
    {
     "data": {
      "text/plain": [
       "[<matplotlib.lines.Line2D at 0x7f34242a8d68>]"
      ]
     },
     "execution_count": 10,
     "metadata": {},
     "output_type": "execute_result"
    },
    {
     "data": {
      "image/png": "[encoded data removed]",
      "text/plain": [
       "<matplotlib.figure.Figure at 0x7f344864cc50>"
      ]
     },
     "metadata": {
      "needs_background": "light"
     },
     "output_type": "display_data"
    }
   ],
   "source": [
    "# Make prediction using the model\n",
    "Y_hat = model_classif1.predict(X)\n",
    "\n",
    "# Plot noisy data, true model and prediction\n",
    "plot(X,Y,'b.')\n",
    "plot(X,Y_true,'r.')\n",
    "plot(X,Y_hat,'g.')"
   ]
  },
  {
   "cell_type": "markdown",
   "metadata": {},
   "source": [
    "Now, let us consider a more complicated classification model where we have 2 input variables ($X_0$, $X_1$) and a binary output variable $Y$. The link between the $X$ variables and $Y$ is nonlinear (moon shape)."
   ]
  },
  {
   "cell_type": "code",
   "execution_count": 11,
   "metadata": {},
   "outputs": [
    {
     "data": {
      "text/plain": [
       "Text(0,0.5,'X_1')"
      ]
     },
     "execution_count": 11,
     "metadata": {},
     "output_type": "execute_result"
    },
    {
     "data": {
      "image/png": "[encoded data removed]",
      "text/plain": [
       "<matplotlib.figure.Figure at 0x7f3408099c50>"
      ]
     },
     "metadata": {
      "needs_background": "light"
     },
     "output_type": "display_data"
    }
   ],
   "source": [
    "# Import machine learning library\n",
    "from sklearn.datasets import make_moons\n",
    "\n",
    "# Generate data\n",
    "n=1000\n",
    "X_true,Y_true=make_moons(noise=0.00001,random_state=0,n_samples=n) # true model\n",
    "X,Y=make_moons(noise=0.2,random_state=0,n_samples=n) # noisy data\n",
    "\n",
    "# Plot true model and noisy data\n",
    "scatter(X[:,0], X[:,1], c=Y)\n",
    "scatter(X_true[:,0], X_true[:,1], c=Y_true)\n",
    "xlabel('X_0')\n",
    "ylabel('X_1')"
   ]
  },
  {
   "cell_type": "markdown",
   "metadata": {},
   "source": [
    "Try first to adjust a simple neural net with 1 hidden layer, 1 neurone and a logistic loss function. Then, test \n",
    "a more complex network with 3 hidden layers and relu (rectified linear unit) activations. For more information concerning the different activation functions, please see https://fr.wikipedia.org/wiki/Fonction_d'activation#cite_note-7. We stock the fitted model in the variable *history*."
   ]
  },
  {
   "cell_type": "code",
   "execution_count": null,
   "metadata": {},
   "outputs": [],
   "source": [
    "# Build our model\n",
    "model_classif2 = Sequential()\n",
    " \n",
    "# Declare the layers\n",
    "#layers = [Dense(units=1, input_dim=2), Activation('sigmoid')] # try this one first\n",
    "layers = [Dense(units=4, input_dim=2), Activation('relu'), # then this one\n",
    "          Dense(units=4, input_dim=4), Activation('relu'),\n",
    "          Dense(units=1, input_dim=4), Activation('sigmoid')]\n",
    "\n",
    "# Add the layers to the model\n",
    "for layer in layers:\n",
    "    model_classif2.add(layer)\n",
    "    \n",
    "# Configure an optimizer used to minimize the loss function\n",
    "sgd = SGD(lr=0.1, decay=.01) # try this one first\n",
    "adam = Adam(lr=0.001, beta_1=0.9, beta_2=0.999, epsilon=1e-08, decay=0.0)\n",
    "\n",
    "# Compile our model\n",
    "model_classif2.compile(loss='binary_crossentropy', optimizer=adam) # sgd or adam\n",
    " \n",
    "# Fit the model\n",
    "history = model_classif2.fit(X, Y, validation_split=0.2, epochs=1000, verbose=0)\n",
    "\n",
    "# Model weights\n",
    "model_classif2.get_weights()"
   ]
  },
  {
   "cell_type": "code",
   "execution_count": null,
   "metadata": {},
   "outputs": [],
   "source": [
    "# Make prediction using the model\n",
    "Y_hat = model_classif2.predict(X)\n",
    "\n",
    "# Plot noisy data, true model and prediction\n",
    "subplot(2,2,1)\n",
    "scatter(X[:,0], X[:,1], c=Y)\n",
    "scatter(X_true[:,0], X_true[:,1], c=Y_true)\n",
    "title('Noisy data and true model')\n",
    "subplot(2,2,2)\n",
    "scatter(X[:,0], X[:,1], c=Y_hat[:,0])\n",
    "scatter(X_true[:,0], X_true[:,1], c=Y_true)\n",
    "title('Noisy data and predictions')"
   ]
  },
  {
   "cell_type": "markdown",
   "metadata": {},
   "source": [
    "The predicted values (right) are given between $0$ (blue) and $1$ (yellow). The algorithm converges when the classification boundary is well defined between the 2 scatter plots. Finally, we can use the *history* variable and plot the evolution of the loss function for the training and test datasets."
   ]
  },
  {
   "cell_type": "code",
   "execution_count": null,
   "metadata": {},
   "outputs": [],
   "source": [
    "# Summarize history for loss\n",
    "plot(history.history['loss'])\n",
    "plot(history.history['val_loss'])\n",
    "ylabel('loss')\n",
    "xlabel('epoch')\n",
    "legend(['train', 'test'])"
   ]
  },
  {
   "cell_type": "markdown",
   "metadata": {},
   "source": [
    "**Classification problem on real data**\n",
    "\n",
    "Congratulations, you are now ready to apply regression or classification problems on real data. Here, we propose to use a well known dataset in statistic: *iris*. The output variable $y$ are different iris species (Setosa, Versicolour, Virginica) and input variables $x$ are the length/width of the sepal/petal. Try to construct your own neural net, learn it on a training dataset ($x_{train}$ and $x_{train}$, 80%) and test it on a independant test dataset ($x_{test}$ and $y_{test}$, 20%)."
   ]
  },
  {
   "cell_type": "code",
   "execution_count": 1,
   "metadata": {},
   "outputs": [],
   "source": [
    "from sklearn import datasets\n",
    "from sklearn.model_selection import train_test_split\n",
    "# Load data\n",
    "iris = datasets.load_iris()\n",
    "X = iris.data\n",
    "Y = iris.target\n",
    "\n",
    "x_train, x_test, y_train, y_test = train_test_split(X, Y, test_size = 0.2)"
   ]
  },
  {
   "cell_type": "code",
   "execution_count": 2,
   "metadata": {},
   "outputs": [
    {
     "data": {
      "text/plain": [
       "((120, 4), (30, 4), (120,), (30,))"
      ]
     },
     "execution_count": 2,
     "metadata": {},
     "output_type": "execute_result"
    }
   ],
   "source": [
    "x_train.shape, x_test.shape, y_train.shape, y_test.shape\n"
   ]
  },
  {
   "cell_type": "code",
   "execution_count": 14,
   "metadata": {},
   "outputs": [
    {
     "name": "stdout",
     "output_type": "stream",
     "text": [
      "Epoch 1/1\n",
      "120/120 [==============================] - 0s 3ms/step - loss: 1.1107\n",
      "[[0.4222778 ]\n",
      " [0.4505778 ]\n",
      " [0.34208894]\n",
      " [0.36921024]\n",
      " [0.4140654 ]\n",
      " [0.32356122]\n",
      " [0.38126498]\n",
      " [0.3905258 ]\n",
      " [0.4052562 ]\n",
      " [0.29002005]\n",
      " [0.4401653 ]\n",
      " [0.39333668]\n",
      " [0.44531694]\n",
      " [0.40077013]\n",
      " [0.38702002]\n",
      " [0.34925365]\n",
      " [0.327159  ]\n",
      " [0.42067838]\n",
      " [0.3553011 ]\n",
      " [0.34848216]\n",
      " [0.45112664]\n",
      " [0.43456733]\n",
      " [0.3935037 ]\n",
      " [0.44324422]\n",
      " [0.41599205]\n",
      " [0.3295514 ]\n",
      " [0.38831976]\n",
      " [0.4094865 ]\n",
      " [0.4226157 ]\n",
      " [0.34512642]] [0 1 2 1 1 1 1 0 1 2 0 1 0 1 0 1 2 0 2 2 0 0 1 0 0 1 0 1 0 2]\n"
     ]
    },
    {
     "ename": "ValueError",
     "evalue": "Classification metrics can't handle a mix of multiclass and continuous targets",
     "output_type": "error",
     "traceback": [
      "\u001b[0;31m---------------------------------------------------------------------------\u001b[0m",
      "\u001b[0;31mValueError\u001b[0m                                Traceback (most recent call last)",
      "\u001b[0;32m<ipython-input-14-2405d4f157fb>\u001b[0m in \u001b[0;36m<module>\u001b[0;34m\u001b[0m\n\u001b[1;32m     25\u001b[0m \u001b[0mprint\u001b[0m\u001b[0;34m(\u001b[0m\u001b[0my_pred_test\u001b[0m\u001b[0;34m,\u001b[0m \u001b[0my_test\u001b[0m\u001b[0;34m)\u001b[0m\u001b[0;34m\u001b[0m\u001b[0m\n\u001b[1;32m     26\u001b[0m \u001b[0;34m\u001b[0m\u001b[0m\n\u001b[0;32m---> 27\u001b[0;31m \u001b[0mprint\u001b[0m\u001b[0;34m(\u001b[0m\u001b[0mconfusion_matrix\u001b[0m\u001b[0;34m(\u001b[0m\u001b[0my_test\u001b[0m\u001b[0;34m,\u001b[0m \u001b[0my_pred_test\u001b[0m\u001b[0;34m)\u001b[0m\u001b[0;34m)\u001b[0m\u001b[0;34m\u001b[0m\u001b[0m\n\u001b[0m",
      "\u001b[0;32m/usr/lib/python3/dist-packages/sklearn/metrics/classification.py\u001b[0m in \u001b[0;36mconfusion_matrix\u001b[0;34m(y_true, y_pred, labels, sample_weight)\u001b[0m\n\u001b[1;32m    248\u001b[0m \u001b[0;34m\u001b[0m\u001b[0m\n\u001b[1;32m    249\u001b[0m     \"\"\"\n\u001b[0;32m--> 250\u001b[0;31m     \u001b[0my_type\u001b[0m\u001b[0;34m,\u001b[0m \u001b[0my_true\u001b[0m\u001b[0;34m,\u001b[0m \u001b[0my_pred\u001b[0m \u001b[0;34m=\u001b[0m \u001b[0m_check_targets\u001b[0m\u001b[0;34m(\u001b[0m\u001b[0my_true\u001b[0m\u001b[0;34m,\u001b[0m \u001b[0my_pred\u001b[0m\u001b[0;34m)\u001b[0m\u001b[0;34m\u001b[0m\u001b[0m\n\u001b[0m\u001b[1;32m    251\u001b[0m     \u001b[0;32mif\u001b[0m \u001b[0my_type\u001b[0m \u001b[0;32mnot\u001b[0m \u001b[0;32min\u001b[0m \u001b[0;34m(\u001b[0m\u001b[0;34m\"binary\"\u001b[0m\u001b[0;34m,\u001b[0m \u001b[0;34m\"multiclass\"\u001b[0m\u001b[0;34m)\u001b[0m\u001b[0;34m:\u001b[0m\u001b[0;34m\u001b[0m\u001b[0m\n\u001b[1;32m    252\u001b[0m         \u001b[0;32mraise\u001b[0m \u001b[0mValueError\u001b[0m\u001b[0;34m(\u001b[0m\u001b[0;34m\"%s is not supported\"\u001b[0m \u001b[0;34m%\u001b[0m \u001b[0my_type\u001b[0m\u001b[0;34m)\u001b[0m\u001b[0;34m\u001b[0m\u001b[0m\n",
      "\u001b[0;32m/usr/lib/python3/dist-packages/sklearn/metrics/classification.py\u001b[0m in \u001b[0;36m_check_targets\u001b[0;34m(y_true, y_pred)\u001b[0m\n\u001b[1;32m     79\u001b[0m     \u001b[0;32mif\u001b[0m \u001b[0mlen\u001b[0m\u001b[0;34m(\u001b[0m\u001b[0my_type\u001b[0m\u001b[0;34m)\u001b[0m \u001b[0;34m>\u001b[0m \u001b[0;36m1\u001b[0m\u001b[0;34m:\u001b[0m\u001b[0;34m\u001b[0m\u001b[0m\n\u001b[1;32m     80\u001b[0m         raise ValueError(\"Classification metrics can't handle a mix of {0} \"\n\u001b[0;32m---> 81\u001b[0;31m                          \"and {1} targets\".format(type_true, type_pred))\n\u001b[0m\u001b[1;32m     82\u001b[0m \u001b[0;34m\u001b[0m\u001b[0m\n\u001b[1;32m     83\u001b[0m     \u001b[0;31m# We can't have more than one value on y_type => The set is no more needed\u001b[0m\u001b[0;34m\u001b[0m\u001b[0;34m\u001b[0m\u001b[0m\n",
      "\u001b[0;31mValueError\u001b[0m: Classification metrics can't handle a mix of multiclass and continuous targets"
     ]
    }
   ],
   "source": [
    "from keras.models import Sequential\n",
    "from keras.layers.core import Activation, Dense\n",
    "from keras.optimizers import SGD, Adam\n",
    "from sklearn.metrics import confusion_matrix\n",
    "\n",
    "model_perso = Sequential()\n",
    "layers = [Dense(units=4, input_dim=4), Activation('relu'), # then this one\n",
    "          Dense(units=4, input_dim=4), Activation('relu'),\n",
    "          Dense(units=1, input_dim=4), Activation('sigmoid')]\n",
    "\n",
    "# Add the layers to the model\n",
    "for layer in layers:\n",
    "    model_perso.add(layer)\n",
    "    \n",
    "# Configure an optimizer used to minimize the loss function\n",
    "sgd = SGD(lr=0.1, decay=.01) # try this one first\n",
    "adam = Adam(lr=0.001, beta_1=0.9, beta_2=0.999, epsilon=1e-08, decay=0.0)\n",
    "\n",
    "# Compile our model\n",
    "model_perso.compile(loss='binary_crossentropy', optimizer=adam) # sgd or adam\n",
    " \n",
    "# Fit the model\n",
    "history = model_perso.fit(x_train, y_train)\n",
    "y_pred_test = model_perso.predict(x_test)\n",
    "print(y_pred_test, y_test)\n",
    "\n",
    "print(confusion_matrix(y_test, y_pred_test))"
   ]
  },
  {
   "cell_type": "code",
   "execution_count": null,
   "metadata": {},
   "outputs": [],
   "source": [
    "\n"
   ]
  },
  {
   "cell_type": "code",
   "execution_count": null,
   "metadata": {},
   "outputs": [],
   "source": []
  }
 ],
 "metadata": {
  "anaconda-cloud": {},
  "description": "Use Caffe as a generic SGD optimizer to train logistic regression on non-image HDF5 data.",
  "example_name": "Off-the-shelf SGD for classification",
  "include_in_docs": true,
  "kernelspec": {
   "display_name": "Python 3",
   "language": "python",
   "name": "python3"
  },
  "language_info": {
   "codemirror_mode": {
    "name": "ipython",
    "version": 3
   },
   "file_extension": ".py",
   "mimetype": "text/x-python",
   "name": "python",
   "nbconvert_exporter": "python",
   "pygments_lexer": "ipython3",
   "version": "3.6.6"
  },
  "priority": 3
 },
 "nbformat": 4,
 "nbformat_minor": 1
}
